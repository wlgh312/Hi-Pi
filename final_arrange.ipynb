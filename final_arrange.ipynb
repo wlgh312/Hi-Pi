{
  "nbformat": 4,
  "nbformat_minor": 0,
  "metadata": {
    "colab": {
      "name": "final_predict.ipynb",
      "provenance": [],
      "collapsed_sections": []
    },
    "kernelspec": {
      "name": "python3",
      "display_name": "Python 3"
    },
    "accelerator": "GPU"
  },
  "cells": [
    {
      "cell_type": "code",
      "metadata": {
        "id": "AUiZvzA8eemj",
        "colab_type": "code",
        "colab": {}
      },
      "source": [
        "import warnings\n",
        "warnings.simplefilter('ignore')"
      ],
      "execution_count": 0,
      "outputs": []
    },
    {
      "cell_type": "code",
      "metadata": {
        "id": "bazTCORIeja7",
        "colab_type": "code",
        "outputId": "069e5da4-5924-4d67-d331-a7a21b6be7b6",
        "colab": {
          "base_uri": "https://localhost:8080/",
          "height": 131
        }
      },
      "source": [
        "#삭제해도되는 코드\n",
        "from google.colab import drive\n",
        "drive.mount('/content/drive')"
      ],
      "execution_count": 2,
      "outputs": [
        {
          "output_type": "stream",
          "text": [
            "Go to this URL in a browser: https://accounts.google.com/o/oauth2/auth?client_id=947318989803-6bn6qk8qdgf4n4g3pfee6491hc0brc4i.apps.googleusercontent.com&redirect_uri=urn%3aietf%3awg%3aoauth%3a2.0%3aoob&response_type=code&scope=email%20https%3a%2f%2fwww.googleapis.com%2fauth%2fdocs.test%20https%3a%2f%2fwww.googleapis.com%2fauth%2fdrive%20https%3a%2f%2fwww.googleapis.com%2fauth%2fdrive.photos.readonly%20https%3a%2f%2fwww.googleapis.com%2fauth%2fpeopleapi.readonly\n",
            "\n",
            "Enter your authorization code:\n",
            "··········\n",
            "Mounted at /content/drive\n"
          ],
          "name": "stdout"
        }
      ]
    },
    {
      "cell_type": "code",
      "metadata": {
        "id": "xIX-cYO1emkA",
        "colab_type": "code",
        "colab": {}
      },
      "source": [
        "import sys\n",
        "sys.path.insert(0, '/content/drive/My Drive/Colab Notebooks/Capston/')#모듈이 들어있는 폴더\n",
        "import os\n",
        "import numpy as np\n",
        "from DDUtil import *"
      ],
      "execution_count": 0,
      "outputs": []
    },
    {
      "cell_type": "code",
      "metadata": {
        "id": "Q-LyUviuetqo",
        "colab_type": "code",
        "outputId": "2026081c-8fbb-4b75-dc47-016f0d7012eb",
        "colab": {
          "base_uri": "https://localhost:8080/",
          "height": 36
        }
      },
      "source": [
        "from keras.preprocessing.image import ImageDataGenerator\n",
        "from keras import models\n",
        "from keras.models import load_model"
      ],
      "execution_count": 4,
      "outputs": [
        {
          "output_type": "stream",
          "text": [
            "Using TensorFlow backend.\n"
          ],
          "name": "stderr"
        }
      ]
    },
    {
      "cell_type": "code",
      "metadata": {
        "id": "t4vAwMkyevTB",
        "colab_type": "code",
        "colab": {}
      },
      "source": [
        "to_Train = False#훈련하지않고 예측한다는 의미"
      ],
      "execution_count": 0,
      "outputs": []
    },
    {
      "cell_type": "code",
      "metadata": {
        "id": "T39ZqTMDey5y",
        "colab_type": "code",
        "outputId": "1b376034-37a0-42d2-dfc0-82c8a9bb3af6",
        "colab": {
          "base_uri": "https://localhost:8080/",
          "height": 36
        }
      },
      "source": [
        "base_dir_out = '/content/drive/My Drive/Colab Notebooks/Capston/data'#이번 프로젝트가 모두 담겨있는 폴더\n",
        "outDir = '{}/cnn_CL4'.format(base_dir_out)#모델이 저장되어있는 경로\n",
        "fnmodel=outDir+'/model3.h5'#모델의 경로+모델이름\n",
        "print(fnmodel)"
      ],
      "execution_count": 6,
      "outputs": [
        {
          "output_type": "stream",
          "text": [
            "/content/drive/My Drive/Colab Notebooks/Capston/data/cnn_CL4/model3.h5\n"
          ],
          "name": "stdout"
        }
      ]
    },
    {
      "cell_type": "code",
      "metadata": {
        "id": "XCGIeGjte1lq",
        "colab_type": "code",
        "outputId": "1d98eb4e-8c14-41cd-cf08-7e438d45ae80",
        "colab": {
          "base_uri": "https://localhost:8080/",
          "height": 36
        }
      },
      "source": [
        "if not to_Train:\n",
        "    if not os.path.isfile(fnmodel):#모델 파일이 없을 경우\n",
        "        to_Train = True\n",
        "        print('Model file {} not exists !!'.format(fnmodel))\n",
        "        print('Setting to_Train --> {}'.format(to_Train))\n",
        "\n",
        "    else:#모델 파일이 있을 경우\n",
        "        print('Model file Okay : {}  !!'.format(fnmodel))\n",
        "        #model.load(fnmodel)"
      ],
      "execution_count": 7,
      "outputs": [
        {
          "output_type": "stream",
          "text": [
            "Model file Okay : /content/drive/My Drive/Colab Notebooks/Capston/data/cnn_CL4/model3.h5  !!\n"
          ],
          "name": "stdout"
        }
      ]
    },
    {
      "cell_type": "code",
      "metadata": {
        "id": "mUK8Me8ie7Xh",
        "colab_type": "code",
        "outputId": "fbae267c-8757-4f83-917e-1c4e629fbd87",
        "colab": {
          "base_uri": "https://localhost:8080/",
          "height": 73
        }
      },
      "source": [
        " %%time\n",
        "model = load_model(fnmodel)#모델 로드\n",
        "print('Loaed a model {}.. okay'.format(fnmodel))"
      ],
      "execution_count": 8,
      "outputs": [
        {
          "output_type": "stream",
          "text": [
            "Loaed a model /content/drive/My Drive/Colab Notebooks/Capston/data/cnn_CL4/model3.h5.. okay\n",
            "CPU times: user 1.43 s, sys: 365 ms, total: 1.79 s\n",
            "Wall time: 13.6 s\n"
          ],
          "name": "stdout"
        }
      ]
    },
    {
      "cell_type": "code",
      "metadata": {
        "id": "kjIHTT5NfbjD",
        "colab_type": "code",
        "outputId": "3c27c635-54e9-4d0f-a0a7-e7e87c5cce88",
        "colab": {
          "base_uri": "https://localhost:8080/",
          "height": 36
        }
      },
      "source": [
        "datagen=ImageDataGenerator(rescale=1./255.)\n",
        "pred_generator = datagen.flow_from_directory(base_dir_out+'/test',#test폴더안에 폴더가 두개이상이어야됨(확인할 이미지가 담겨있는 폴더말고 빈폴더를 하나 더 만들면 됩니다.)\n",
        "                                   batch_size=1,\n",
        "                                   class_mode = 'categorical', \n",
        "                                   target_size = (64, 64))\n",
        "STEP_SIZE_VALID=int(np.ceil(pred_generator.n/pred_generator.batch_size))\n",
        "v = model.predict_generator(pred_generator, steps=STEP_SIZE_VALID)"
      ],
      "execution_count": 9,
      "outputs": [
        {
          "output_type": "stream",
          "text": [
            "Found 1 images belonging to 2 classes.\n"
          ],
          "name": "stdout"
        }
      ]
    },
    {
      "cell_type": "code",
      "metadata": {
        "id": "CGbuFsZae9py",
        "colab_type": "code",
        "outputId": "f4c0a90c-e572-4a2e-d5f8-8ed6b5add016",
        "colab": {
          "base_uri": "https://localhost:8080/",
          "height": 55
        }
      },
      "source": [
        "pred = np.argmax(v)#예측한 클래스 결과\n",
        "print(\"{}\".format(v, pred_generator.filenames[61:]))#각 클래스일 확률\n",
        "print(\"Predict : {}\".format(pred))#예측한 클래스 출력"
      ],
      "execution_count": 10,
      "outputs": [
        {
          "output_type": "stream",
          "text": [
            "[[1.3448113e-04 3.5266112e-06 6.2560925e-06 9.9985576e-01]] -- []\n",
            "Predict : 3\n"
          ],
          "name": "stdout"
        }
      ]
    },
    {
      "cell_type": "code",
      "metadata": {
        "id": "2VBoTb3cqRDn",
        "colab_type": "code",
        "colab": {
          "base_uri": "https://localhost:8080/",
          "height": 36
        },
        "outputId": "8b186cdd-60df-4a8d-e401-11e4b18250e9"
      },
      "source": [
        "#예측 결과 출력\n",
        "if pred == 0:#물 마시는 소리\n",
        "  print(\"Your cat drinks water\")\n",
        "elif pred == 1:#밥 먹는 소리\n",
        "  print(\"Your cat eats feed\")\n",
        "elif pred == 2:#화장실 소리\n",
        "  print(\"Your cat goes to the toilet\")\n",
        "elif pred == 3:#잡음\n",
        "  print(\"It's noise\")"
      ],
      "execution_count": 11,
      "outputs": [
        {
          "output_type": "stream",
          "text": [
            "It's noise\n"
          ],
          "name": "stdout"
        }
      ]
    },
    {
      "cell_type": "code",
      "metadata": {
        "id": "uS9ZGWslNSTK",
        "colab_type": "code",
        "colab": {}
      },
      "source": [
        ""
      ],
      "execution_count": 0,
      "outputs": []
    }
  ]
}